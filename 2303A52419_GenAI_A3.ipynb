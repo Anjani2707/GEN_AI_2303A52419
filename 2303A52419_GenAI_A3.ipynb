{
  "nbformat": 4,
  "nbformat_minor": 0,
  "metadata": {
    "colab": {
      "provenance": [],
      "authorship_tag": "ABX9TyPVblmP8GuvaTrk0QNPCGMy",
      "include_colab_link": true
    },
    "kernelspec": {
      "name": "python3",
      "display_name": "Python 3"
    },
    "language_info": {
      "name": "python"
    }
  },
  "cells": [
    {
      "cell_type": "markdown",
      "metadata": {
        "id": "view-in-github",
        "colab_type": "text"
      },
      "source": [
        "<a href=\"https://colab.research.google.com/github/Anjani2707/GEN_AI_2303A52419/blob/main/2303A52419_GenAI_A3.ipynb\" target=\"_parent\"><img src=\"https://colab.research.google.com/assets/colab-badge.svg\" alt=\"Open In Colab\"/></a>"
      ]
    },
    {
      "cell_type": "markdown",
      "source": [
        "question - 1"
      ],
      "metadata": {
        "id": "lWTKYSpxTA7q"
      }
    },
    {
      "cell_type": "code",
      "source": [
        "import numpy as np"
      ],
      "metadata": {
        "id": "j7L_5J1_eTN7"
      },
      "execution_count": 22,
      "outputs": []
    },
    {
      "cell_type": "code",
      "source": [
        "#f(x) = 5x4 +3x2 +10\n",
        "import random\n",
        "x = random.uniform(-10,10)\n",
        "print(x)"
      ],
      "metadata": {
        "colab": {
          "base_uri": "https://localhost:8080/"
        },
        "id": "sX-aOdSJTDHv",
        "outputId": "7b4b3bfd-4b44-4ca5-a0b8-3301d49790cc"
      },
      "execution_count": 2,
      "outputs": [
        {
          "output_type": "stream",
          "name": "stdout",
          "text": [
            "9.333661131724039\n"
          ]
        }
      ]
    },
    {
      "cell_type": "code",
      "source": [
        "eta=0.001\n",
        "No_of_iterations=1000"
      ],
      "metadata": {
        "id": "Se_K-hrVXg1x"
      },
      "execution_count": 7,
      "outputs": []
    },
    {
      "cell_type": "code",
      "source": [
        "for i in range(No_of_iterations):\n",
        "  grad = 20*x**3 + 6*x\n",
        "  delta_x = -eta*grad\n",
        "  x = x + delta_x"
      ],
      "metadata": {
        "id": "fSw6aF86XRKU"
      },
      "execution_count": 8,
      "outputs": []
    },
    {
      "cell_type": "code",
      "source": [
        "round(x)"
      ],
      "metadata": {
        "colab": {
          "base_uri": "https://localhost:8080/"
        },
        "id": "Q_STuzGyWx5Q",
        "outputId": "d203f0a6-6149-4cee-b4f3-b3e10b8c162a"
      },
      "execution_count": 9,
      "outputs": [
        {
          "output_type": "execute_result",
          "data": {
            "text/plain": [
              "0"
            ]
          },
          "metadata": {},
          "execution_count": 9
        }
      ]
    },
    {
      "cell_type": "markdown",
      "source": [
        "question - 2"
      ],
      "metadata": {
        "id": "XwbqVd4bYGye"
      }
    },
    {
      "cell_type": "code",
      "source": [
        "#f(x) = 3x2 +5e−y +10\n",
        "import math"
      ],
      "metadata": {
        "id": "HE8SYsVhYKhk"
      },
      "execution_count": 10,
      "outputs": []
    },
    {
      "cell_type": "code",
      "source": [
        "eta=0.001\n",
        "No_of_iterations = 1000\n",
        "x=random.uniform(-10,10)\n",
        "y=random.uniform(-10,10)\n",
        "for i in range(No_of_iterations):\n",
        "  grad_x=6*x\n",
        "  grad_y=-5*math.exp(-y)\n",
        "  delta_x=-eta*grad_x\n",
        "  delta_y=-eta*grad_y\n",
        "  x = x + delta_x\n",
        "  y = y + delta_y"
      ],
      "metadata": {
        "id": "PmsB0cteYRG1"
      },
      "execution_count": 11,
      "outputs": []
    },
    {
      "cell_type": "code",
      "source": [
        "print(round(x))\n",
        "print(round(y))"
      ],
      "metadata": {
        "colab": {
          "base_uri": "https://localhost:8080/"
        },
        "id": "kjHzNMzxaUg6",
        "outputId": "3e147967-2ae1-4994-8c3d-f512e3efa5a0"
      },
      "execution_count": 12,
      "outputs": [
        {
          "output_type": "stream",
          "name": "stdout",
          "text": [
            "0\n",
            "2\n"
          ]
        }
      ]
    },
    {
      "cell_type": "markdown",
      "source": [
        "question - 3"
      ],
      "metadata": {
        "id": "0RteuJxvbY_q"
      }
    },
    {
      "cell_type": "code",
      "source": [
        "#f(x) = 1/(1+e^-x)\n",
        "import math"
      ],
      "metadata": {
        "id": "5MBViOENbbNu"
      },
      "execution_count": 14,
      "outputs": []
    },
    {
      "cell_type": "code",
      "source": [
        "eta=0.001\n",
        "No_of_iterations = 1000\n",
        "x=random.uniform(-10,10)\n",
        "for i in range(No_of_iterations):\n",
        "    z = 1 / (1 + math.exp(-x))\n",
        "    grad = z * (1 - z)\n",
        "    delta_x = -eta * grad\n",
        "    x = x + delta_x"
      ],
      "metadata": {
        "id": "elZfdqhjbfua"
      },
      "execution_count": 15,
      "outputs": []
    },
    {
      "cell_type": "code",
      "source": [
        "print(x)"
      ],
      "metadata": {
        "colab": {
          "base_uri": "https://localhost:8080/"
        },
        "id": "DDxGoINSbkY4",
        "outputId": "4e67f25a-a63b-4f90-af09-df28989481d5"
      },
      "execution_count": 16,
      "outputs": [
        {
          "output_type": "stream",
          "name": "stdout",
          "text": [
            "-1.2703083408988858\n"
          ]
        }
      ]
    },
    {
      "cell_type": "markdown",
      "source": [
        "question - 4"
      ],
      "metadata": {
        "id": "0HY0H6Z1dnH5"
      }
    },
    {
      "cell_type": "code",
      "source": [
        "# y= mx+c"
      ],
      "metadata": {
        "id": "hMbnB51Ldrz0"
      },
      "execution_count": 17,
      "outputs": []
    },
    {
      "cell_type": "code",
      "source": [
        "eta=0.001\n",
        "No_of_iterations = 1000\n",
        "m=random.uniform(-10,10)\n",
        "c=random.uniform(-10,10)\n",
        "x=2\n",
        "ep=0.5\n",
        "se=0"
      ],
      "metadata": {
        "id": "Xg8lBjt0dvYO"
      },
      "execution_count": 19,
      "outputs": []
    },
    {
      "cell_type": "code",
      "source": [
        "for i in range(No_of_iterations):\n",
        "  grad_x=x\n",
        "  grad_y=1\n",
        "  delta_x=-eta*grad_x\n",
        "  delta_y=-eta*grad_y\n",
        "  m = m + delta_x\n",
        "  c = c + delta_y\n",
        "  y=m*x+c\n",
        "  se=min(se,(y-ep)**2)"
      ],
      "metadata": {
        "id": "IOEjKgJSdyHV"
      },
      "execution_count": 20,
      "outputs": []
    },
    {
      "cell_type": "code",
      "source": [
        "print(np.round(m))\n",
        "print(np.round(c))"
      ],
      "metadata": {
        "colab": {
          "base_uri": "https://localhost:8080/"
        },
        "id": "bT6K9u5bd1hz",
        "outputId": "458c9f8f-31c0-4e09-fb2d-8fd9bf278b61"
      },
      "execution_count": 23,
      "outputs": [
        {
          "output_type": "stream",
          "name": "stdout",
          "text": [
            "1.0\n",
            "9.0\n"
          ]
        }
      ]
    },
    {
      "cell_type": "code",
      "source": [
        "print(se)"
      ],
      "metadata": {
        "colab": {
          "base_uri": "https://localhost:8080/"
        },
        "id": "167iwGzGd726",
        "outputId": "f5184ffa-1761-4591-caa8-dce670bd9131"
      },
      "execution_count": 24,
      "outputs": [
        {
          "output_type": "stream",
          "name": "stdout",
          "text": [
            "0\n"
          ]
        }
      ]
    }
  ]
}