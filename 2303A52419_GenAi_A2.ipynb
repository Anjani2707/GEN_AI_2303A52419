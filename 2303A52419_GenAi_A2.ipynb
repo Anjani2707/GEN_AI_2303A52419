{
  "nbformat": 4,
  "nbformat_minor": 0,
  "metadata": {
    "colab": {
      "provenance": [],
      "authorship_tag": "ABX9TyNu7Waq+QrnkkHDsRXXPUhg",
      "include_colab_link": true
    },
    "kernelspec": {
      "name": "python3",
      "display_name": "Python 3"
    },
    "language_info": {
      "name": "python"
    }
  },
  "cells": [
    {
      "cell_type": "markdown",
      "metadata": {
        "id": "view-in-github",
        "colab_type": "text"
      },
      "source": [
        "<a href=\"https://colab.research.google.com/github/Anjani2707/GEN_AI_2303A52419/blob/main/2303A52419_GenAi_A2.ipynb\" target=\"_parent\"><img src=\"https://colab.research.google.com/assets/colab-badge.svg\" alt=\"Open In Colab\"/></a>"
      ]
    },
    {
      "cell_type": "markdown",
      "source": [
        "CASE STUDY -1"
      ],
      "metadata": {
        "id": "e4UTECnOgdGs"
      }
    },
    {
      "cell_type": "markdown",
      "source": [
        "without libraries"
      ],
      "metadata": {
        "id": "J5tMNgBjgjJY"
      }
    },
    {
      "cell_type": "code",
      "source": [
        "import numpy as np\n",
        "max_profit=0\n",
        "x1=0\n",
        "y1=0\n",
        "\n",
        "for x in range(10):\n",
        "    for y in range(10):\n",
        "        if x + y == 5 or 3 * x + 2 * y == 12:\n",
        "            if x + y <= 5 and 3 * x + 2 * y <= 12:\n",
        "                profit = 6 * x + 5 * y\n",
        "                if profit > max_profit:\n",
        "                    max_profit = profit\n",
        "                    optimal_x = x1\n",
        "                    optimal_y = y1\n",
        "print(\"Optimal number of units for A:\",x1)\n",
        "print(\"Optimal number of units for B:\", y1)\n",
        "print(\"Maximum profit:\", max_profit)"
      ],
      "metadata": {
        "colab": {
          "base_uri": "https://localhost:8080/"
        },
        "id": "uYgpmU6ogfAl",
        "outputId": "9f663401-3c2a-45e7-f900-5b7406f8b3e0"
      },
      "execution_count": 2,
      "outputs": [
        {
          "output_type": "stream",
          "name": "stdout",
          "text": [
            "Optimal number of units for A: 0\n",
            "Optimal number of units for B: 0\n",
            "Maximum profit: 27\n"
          ]
        }
      ]
    },
    {
      "cell_type": "markdown",
      "source": [
        "with libraries"
      ],
      "metadata": {
        "id": "JGo_FHVcg3d_"
      }
    },
    {
      "cell_type": "code",
      "source": [
        "from scipy.optimize import linprog\n",
        "import numpy as np\n",
        "\n",
        "c = [-6, -5]\n",
        "A = [[1, 1], [3, 2]]\n",
        "b = [5, 12]\n",
        "x2 = (0, None)\n",
        "y2 = (0, None)\n",
        "bounds = [x2,y2]\n",
        "\n",
        "result = linprog(c, A_ub=A, b_ub=b, bounds=bounds, method=\"highs\")\n",
        "x1, y1 = result.x\n",
        "max_profit = -result.fun\n",
        "\n",
        "print(\"\\nOptimal Solution:\")\n",
        "print(f\"Optimal number of units for A: {x1:.2f}\")\n",
        "print(f\"Optimal number of units for B: {y1:.2f}\")\n",
        "print(f\"Maximum profit: Rs {max_profit:.2f}\")"
      ],
      "metadata": {
        "colab": {
          "base_uri": "https://localhost:8080/"
        },
        "id": "xF67kPzzg40b",
        "outputId": "d91ed600-00d5-4f3b-d8fc-cb624497effe"
      },
      "execution_count": 3,
      "outputs": [
        {
          "output_type": "stream",
          "name": "stdout",
          "text": [
            "\n",
            "Optimal Solution:\n",
            "Optimal number of units for A: 2.00\n",
            "Optimal number of units for B: 3.00\n",
            "Maximum profit: Rs 27.00\n"
          ]
        }
      ]
    },
    {
      "cell_type": "markdown",
      "source": [
        "CASE STUDY - 2"
      ],
      "metadata": {
        "id": "HUS8D0RthS0u"
      }
    },
    {
      "cell_type": "markdown",
      "source": [
        "without libraries"
      ],
      "metadata": {
        "id": "30M0S04DhhBA"
      }
    },
    {
      "cell_type": "code",
      "source": [
        "max_profit=0\n",
        "x3=0\n",
        "y3=0\n",
        "for x in range(111):\n",
        "    for y in range(111):\n",
        "        if x + y == 110 or 7000 * x + 2000 * y == 700000 or 10 * x + 30 * y == 1200:\n",
        "            if x + y <= 110 and 7000 * x + 2000 * y <= 700000 and 10 * x + 30 * y <= 1200:\n",
        "                profit = 50 * x + 120 * y\n",
        "                if profit > max_profit:\n",
        "                    max_profit = profit\n",
        "                    x3 = x\n",
        "                    y3 = y\n",
        "\n",
        "\n",
        "print(\"Optimal number of hectares for Wheat:\", x3)\n",
        "print(\"Optimal number of hectares for Barley:\", y3)\n",
        "print(\"Maximum profit:\", max_profit)"
      ],
      "metadata": {
        "colab": {
          "base_uri": "https://localhost:8080/"
        },
        "id": "nal1Kt3XhdEX",
        "outputId": "19840c4e-2d6a-4b3a-c79c-146c910de234"
      },
      "execution_count": 4,
      "outputs": [
        {
          "output_type": "stream",
          "name": "stdout",
          "text": [
            "Optimal number of hectares for Wheat: 96\n",
            "Optimal number of hectares for Barley: 8\n",
            "Maximum profit: 5760\n"
          ]
        }
      ]
    },
    {
      "cell_type": "markdown",
      "source": [
        "with libraries"
      ],
      "metadata": {
        "id": "tCTcyveUhkiC"
      }
    },
    {
      "cell_type": "code",
      "source": [
        "from scipy.optimize import linprog\n",
        "import numpy as np\n",
        "\n",
        "\n",
        "c = [-50, -120]\n",
        "A = [[1, 1], [7000,2000],[10,30]]\n",
        "b = [110,700000,1200]\n",
        "x4 = (0, None)\n",
        "y4= (0, None)\n",
        "bounds = [x4, y4]\n",
        "\n",
        "\n",
        "\n",
        "result = linprog(c, A_ub=A, b_ub=b, bounds=bounds, method=\"highs\")\n",
        "x3, y3 = result.x\n",
        "max_profit = -result.fun\n"
      ],
      "metadata": {
        "id": "oA1jRQb2hmFO"
      },
      "execution_count": 5,
      "outputs": []
    },
    {
      "cell_type": "code",
      "source": [
        "print(\"\\nOptimal Solution:\")\n",
        "print(f\"Optimal number of units for A: {np.round(x3)}\")\n",
        "print(f\"Optimal number of units for B: {np.round(y3)}\")\n",
        "print(f\"Maximum profit: Rs {np.round(max_profit)}\")"
      ],
      "metadata": {
        "id": "v6TE5e7OhuTz",
        "outputId": "7a9495cd-3631-4c27-fbd8-860ca5c82c9b",
        "colab": {
          "base_uri": "https://localhost:8080/"
        }
      },
      "execution_count": 6,
      "outputs": [
        {
          "output_type": "stream",
          "name": "stdout",
          "text": [
            "\n",
            "Optimal Solution:\n",
            "Optimal number of units for A: 98.0\n",
            "Optimal number of units for B: 7.0\n",
            "Maximum profit: Rs 5779.0\n"
          ]
        }
      ]
    }
  ]
}