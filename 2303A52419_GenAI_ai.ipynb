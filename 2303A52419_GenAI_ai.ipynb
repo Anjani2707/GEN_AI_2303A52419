{
  "nbformat": 4,
  "nbformat_minor": 0,
  "metadata": {
    "colab": {
      "provenance": [],
      "authorship_tag": "ABX9TyOLth7ju9q6JeeL2L6lOxRh",
      "include_colab_link": true
    },
    "kernelspec": {
      "name": "python3",
      "display_name": "Python 3"
    },
    "language_info": {
      "name": "python"
    }
  },
  "cells": [
    {
      "cell_type": "markdown",
      "metadata": {
        "id": "view-in-github",
        "colab_type": "text"
      },
      "source": [
        "<a href=\"https://colab.research.google.com/github/Anjani2707/GEN_AI_2303A52419/blob/main/2303A52419_GenAI_ai.ipynb\" target=\"_parent\"><img src=\"https://colab.research.google.com/assets/colab-badge.svg\" alt=\"Open In Colab\"/></a>"
      ]
    },
    {
      "cell_type": "code",
      "source": [
        "#with out libraries\n",
        "Yact = [10, 20, 30, 40, 50]\n",
        "Ypred = [10.2, 20.5, 30.3, 40.8, 50.6]\n",
        "\n",
        "n = len(Yact)\n",
        "squared_error = 0\n",
        "absolute_error = 0\n",
        "\n",
        "for actual, predicted in zip(Yact, Ypred):\n",
        "    error = actual - predicted\n",
        "    squared_error += error ** 2\n",
        "    absolute_error += abs(error)\n",
        "\n",
        "mse = squared_error / n\n",
        "mae = absolute_error / n\n",
        "rmse = mse ** 0.5\n",
        "\n",
        "print(f\"Mean Squared Error (MSE): {mse}\")\n",
        "print(f\"Mean Absolute Error (MAE): {mae}\")\n",
        "print(f\"Root Mean Squared Error (RMSE): {rmse}\")"
      ],
      "metadata": {
        "colab": {
          "base_uri": "https://localhost:8080/"
        },
        "id": "dg2OvXW6QEMS",
        "outputId": "afa4bb31-8e48-42d9-f334-a382b51625e4"
      },
      "execution_count": null,
      "outputs": [
        {
          "output_type": "stream",
          "name": "stdout",
          "text": [
            "Mean Squared Error (MSE): 0.27599999999999947\n",
            "Mean Absolute Error (MAE): 0.4799999999999997\n",
            "Root Mean Squared Error (RMSE): 0.5253570214625474\n"
          ]
        }
      ]
    },
    {
      "cell_type": "code",
      "source": [
        "#with libraries\n",
        "import numpy as np\n",
        "Yact = np.array([10, 20, 30, 40, 50])\n",
        "Ypred = np.array([10.2, 20.5, 30.3, 40.8, 50.6])\n",
        "\n",
        "mse = np.mean((Yact - Ypred) ** 2)\n",
        "mae = np.mean(np.abs(Yact - Ypred))\n",
        "rmse = np.sqrt(mse)\n",
        "\n",
        "print(f\"Mean Squared Error (MSE): {mse}\")\n",
        "print(f\"Mean Absolute Error (MAE): {mae}\")\n",
        "print(f\"Root Mean Squared Error (RMSE): {rmse}\")"
      ],
      "metadata": {
        "colab": {
          "base_uri": "https://localhost:8080/"
        },
        "id": "yZtV4IUvRN-T",
        "outputId": "c42266dc-93c0-4267-916c-a308d7f2a8a6"
      },
      "execution_count": null,
      "outputs": [
        {
          "output_type": "stream",
          "name": "stdout",
          "text": [
            "Mean Squared Error (MSE): 0.27599999999999947\n",
            "Mean Absolute Error (MAE): 0.4799999999999997\n",
            "Root Mean Squared Error (RMSE): 0.5253570214625474\n"
          ]
        }
      ]
    },
    {
      "cell_type": "code",
      "source": [
        "from sklearn.metrics import confusion_matrix, accuracy_score\n",
        "\n",
        "# Define the actual and predicted values\n",
        "Yact = [0, 0, 0, 0, 0, 1, 1, 1, 1, 1, 1, 2, 2, 2, 2, 2]\n",
        "Ypredict = [0, 0, 1, 1, 2, 2, 0, 1, 1, 1, 2, 0, 2, 1, 1, 2]\n",
        "\n",
        "# Compute the confusion matrix\n",
        "conf_matrix = confusion_matrix(Yact, Ypredict)\n",
        "\n",
        "# Compute the accuracy\n",
        "accuracy = accuracy_score(Yact, Ypredict)\n",
        "\n",
        "# Print the results\n",
        "print(\"Confusion Matrix:\")\n",
        "print(conf_matrix)\n",
        "print(\"\\nAccuracy:\")\n",
        "print(accuracy)\n"
      ],
      "metadata": {
        "id": "7YUIfD4eZSZh",
        "outputId": "42f945db-ebea-40f1-aebd-b3fcf850fd61",
        "colab": {
          "base_uri": "https://localhost:8080/"
        }
      },
      "execution_count": null,
      "outputs": [
        {
          "output_type": "stream",
          "name": "stdout",
          "text": [
            "Confusion Matrix:\n",
            "[[2 2 1]\n",
            " [1 3 2]\n",
            " [1 2 2]]\n",
            "\n",
            "Accuracy:\n",
            "0.4375\n"
          ]
        }
      ]
    }
  ]
}