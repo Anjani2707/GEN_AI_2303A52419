{
  "nbformat": 4,
  "nbformat_minor": 0,
  "metadata": {
    "colab": {
      "provenance": [],
      "authorship_tag": "ABX9TyOutbTmHzfg6SyzC2n+Vha4",
      "include_colab_link": true
    },
    "kernelspec": {
      "name": "python3",
      "display_name": "Python 3"
    },
    "language_info": {
      "name": "python"
    }
  },
  "cells": [
    {
      "cell_type": "markdown",
      "metadata": {
        "id": "view-in-github",
        "colab_type": "text"
      },
      "source": [
        "<a href=\"https://colab.research.google.com/github/Anjani2707/GEN_AI_2303A52419/blob/main/2303A52419_GenAI_A1.ipynb\" target=\"_parent\"><img src=\"https://colab.research.google.com/assets/colab-badge.svg\" alt=\"Open In Colab\"/></a>"
      ]
    },
    {
      "cell_type": "code",
      "source": [
        "#with out libraries\n",
        "Yact = [10, 20, 30, 40, 50]\n",
        "Ypred = [10.2, 20.5, 30.3, 40.8, 50.6]\n",
        "\n",
        "n = len(Yact)\n",
        "squared_error = 0\n",
        "absolute_error = 0\n",
        "\n",
        "for actual, predicted in zip(Yact, Ypred):\n",
        "    error = actual - predicted\n",
        "    squared_error += error ** 2\n",
        "    absolute_error += abs(error)\n",
        "\n",
        "mse = squared_error / n\n",
        "mae = absolute_error / n\n",
        "rmse = mse ** 0.5\n",
        "\n",
        "print(f\"Mean Squared Error (MSE): {mse}\")\n",
        "print(f\"Mean Absolute Error (MAE): {mae}\")\n",
        "print(f\"Root Mean Squared Error (RMSE): {rmse}\")"
      ],
      "metadata": {
        "colab": {
          "base_uri": "https://localhost:8080/"
        },
        "id": "dg2OvXW6QEMS",
        "outputId": "afa4bb31-8e48-42d9-f334-a382b51625e4"
      },
      "execution_count": null,
      "outputs": [
        {
          "output_type": "stream",
          "name": "stdout",
          "text": [
            "Mean Squared Error (MSE): 0.27599999999999947\n",
            "Mean Absolute Error (MAE): 0.4799999999999997\n",
            "Root Mean Squared Error (RMSE): 0.5253570214625474\n"
          ]
        }
      ]
    },
    {
      "cell_type": "code",
      "source": [
        "#with libraries\n",
        "import numpy as np\n",
        "Yact = np.array([10, 20, 30, 40, 50])\n",
        "Ypred = np.array([10.2, 20.5, 30.3, 40.8, 50.6])\n",
        "\n",
        "mse = np.mean((Yact - Ypred) ** 2)\n",
        "mae = np.mean(np.abs(Yact - Ypred))\n",
        "rmse = np.sqrt(mse)\n",
        "\n",
        "print(f\"Mean Squared Error (MSE): {mse}\")\n",
        "print(f\"Mean Absolute Error (MAE): {mae}\")\n",
        "print(f\"Root Mean Squared Error (RMSE): {rmse}\")"
      ],
      "metadata": {
        "colab": {
          "base_uri": "https://localhost:8080/"
        },
        "id": "yZtV4IUvRN-T",
        "outputId": "c42266dc-93c0-4267-916c-a308d7f2a8a6"
      },
      "execution_count": null,
      "outputs": [
        {
          "output_type": "stream",
          "name": "stdout",
          "text": [
            "Mean Squared Error (MSE): 0.27599999999999947\n",
            "Mean Absolute Error (MAE): 0.4799999999999997\n",
            "Root Mean Squared Error (RMSE): 0.5253570214625474\n"
          ]
        }
      ]
    },
    {
      "cell_type": "code",
      "source": [
        "from sklearn.metrics import confusion_matrix, accuracy_score\n",
        "\n",
        "# Define the actual and predicted values\n",
        "Yact = [0, 0, 0, 0, 0, 1, 1, 1, 1, 1, 1, 2, 2, 2, 2, 2]\n",
        "Ypredict = [0, 0, 1, 1, 2, 2, 0, 1, 1, 1, 2, 0, 2, 1, 1, 2]\n",
        "\n",
        "# Compute the confusion matrix\n",
        "conf_matrix = confusion_matrix(Yact, Ypredict)\n",
        "\n",
        "# Compute the accuracy\n",
        "accuracy = accuracy_score(Yact, Ypredict)\n",
        "\n",
        "# Print the results\n",
        "print(\"Confusion Matrix:\")\n",
        "print(conf_matrix)\n",
        "print(\"\\nAccuracy:\")\n",
        "print(accuracy)\n"
      ],
      "metadata": {
        "id": "7YUIfD4eZSZh",
        "outputId": "42f945db-ebea-40f1-aebd-b3fcf850fd61",
        "colab": {
          "base_uri": "https://localhost:8080/"
        }
      },
      "execution_count": null,
      "outputs": [
        {
          "output_type": "stream",
          "name": "stdout",
          "text": [
            "Confusion Matrix:\n",
            "[[2 2 1]\n",
            " [1 3 2]\n",
            " [1 2 2]]\n",
            "\n",
            "Accuracy:\n",
            "0.4375\n"
          ]
        }
      ]
    },
    {
      "cell_type": "code",
      "source": [
        "#2\n",
        "ya1=[0,0,0,0,0,1,1,1,1,1,1,2,2,2,2,2]\n",
        "yp1=[0,0,1,1,2,2,0,1,1,1,2,0,2,1,1,2]"
      ],
      "metadata": {
        "id": "julm3QnVKIOc"
      },
      "execution_count": 1,
      "outputs": []
    },
    {
      "cell_type": "code",
      "source": [
        "min_label = min(min(ya1), min(yp1))\n",
        "max_label = max(max(ya1), max(yp1))\n",
        "\n",
        "\n",
        "num_classes = max_label - min_label + 1\n",
        "\n",
        "cm = [[0 for _ in range(num_classes)] for _ in range(num_classes)]\n",
        "\n",
        "for i in range(len(ya1)):\n",
        "    cm[ya1[i]-min_label][yp1[i]-min_label] += 1\n",
        "\n",
        "for row in cm:\n",
        "    print(row)\n"
      ],
      "metadata": {
        "colab": {
          "base_uri": "https://localhost:8080/"
        },
        "id": "OAzlM6IMKZT7",
        "outputId": "70a45160-0038-4660-8be8-668fe0283bc1"
      },
      "execution_count": 2,
      "outputs": [
        {
          "output_type": "stream",
          "name": "stdout",
          "text": [
            "[2, 2, 1]\n",
            "[1, 3, 2]\n",
            "[1, 2, 2]\n"
          ]
        }
      ]
    },
    {
      "cell_type": "code",
      "source": [
        "import numpy as np\n",
        "accuracy = np.sum(np.diagonal(cm)) / np.sum(cm)\n",
        "\n",
        "precision = {}\n",
        "recall = {}\n",
        "f1_score = {}\n",
        "\n",
        "for i in range(num_classes):\n",
        "    true_positive = cm[i][i]\n",
        "    false_positive = np.sum(cm[j][i] for j in range(num_classes)) - true_positive\n",
        "    false_negative = np.sum(cm[i][j] for j in range(num_classes)) - true_positive\n",
        "    true_negative = np.sum(np.sum(cm[row][col] for col in range(num_classes)) for row in range(num_classes)) - (true_positive + false_positive + false_negative)\n",
        "\n",
        "    # Precision: TP / (TP + FP)\n",
        "    precision[i] = true_positive / (true_positive + false_positive) if (true_positive + false_positive) > 0 else 0\n",
        "\n",
        "    # Recall: TP / (TP + FN)\n",
        "    recall[i] = true_positive / (true_positive + false_negative) if (true_positive + false_negative) > 0 else 0\n",
        "\n",
        "    # F1 Score: 2 * (Precision * Recall) / (Precision + Recall)\n",
        "    if precision[i] + recall[i] > 0:\n",
        "        f1_score[i] = 2 * (precision[i] * recall[i]) / (precision[i] + recall[i])\n",
        "    else:\n",
        "        f1_score[i] = 0\n",
        "\n",
        "# Calculate overall precision, recall, and F1-score using numpy\n",
        "overall_precision = np.sum([precision[i] for i in range(num_classes)])/num_classes\n",
        "overall_recall = np.sum([recall[i] for i in range(num_classes)])/num_classes\n",
        "overall_f1_score = np.sum([f1_score[i] for i in range(num_classes)])/num_classes\n",
        "\n",
        "# Print results\n",
        "for i in range(num_classes):\n",
        "    print(f\"\\nClass {i + min_label}:\")\n",
        "    print(f\"  Precision: {precision[i]:.2f}\")\n",
        "    print(f\"  Recall: {recall[i]:.2f}\")\n",
        "    print(f\"  F1-Score: {f1_score[i]:.2f}\")\n",
        "\n",
        "\n",
        "print(\"\\nMetrics:\")\n",
        "print(f\"Overall Accuracy: {accuracy:.2f}\")\n",
        "print(f\"Overall Precision: {overall_precision:.2f}\")\n",
        "print(f\"Overall Recall: {overall_recall:.2f}\")\n",
        "print(f\"Overall F1-Score: {overall_f1_score:.2f}\")\n",
        "\n",
        "print()\n",
        "print()"
      ],
      "metadata": {
        "colab": {
          "base_uri": "https://localhost:8080/"
        },
        "id": "U-iFaEaoKcUU",
        "outputId": "8ce95a91-d991-4cae-d4ae-9ea0eb08b727"
      },
      "execution_count": 3,
      "outputs": [
        {
          "output_type": "stream",
          "name": "stdout",
          "text": [
            "\n",
            "Class 0:\n",
            "  Precision: 0.50\n",
            "  Recall: 0.40\n",
            "  F1-Score: 0.44\n",
            "\n",
            "Class 1:\n",
            "  Precision: 0.43\n",
            "  Recall: 0.50\n",
            "  F1-Score: 0.46\n",
            "\n",
            "Class 2:\n",
            "  Precision: 0.40\n",
            "  Recall: 0.40\n",
            "  F1-Score: 0.40\n",
            "\n",
            "Metrics:\n",
            "Overall Accuracy: 0.44\n",
            "Overall Precision: 0.44\n",
            "Overall Recall: 0.43\n",
            "Overall F1-Score: 0.44\n",
            "\n",
            "\n"
          ]
        },
        {
          "output_type": "stream",
          "name": "stderr",
          "text": [
            "<ipython-input-3-ba1a55991cd3>:10: DeprecationWarning: Calling np.sum(generator) is deprecated, and in the future will give a different result. Use np.sum(np.fromiter(generator)) or the python sum builtin instead.\n",
            "  false_positive = np.sum(cm[j][i] for j in range(num_classes)) - true_positive\n",
            "<ipython-input-3-ba1a55991cd3>:11: DeprecationWarning: Calling np.sum(generator) is deprecated, and in the future will give a different result. Use np.sum(np.fromiter(generator)) or the python sum builtin instead.\n",
            "  false_negative = np.sum(cm[i][j] for j in range(num_classes)) - true_positive\n",
            "<ipython-input-3-ba1a55991cd3>:12: DeprecationWarning: Calling np.sum(generator) is deprecated, and in the future will give a different result. Use np.sum(np.fromiter(generator)) or the python sum builtin instead.\n",
            "  true_negative = np.sum(np.sum(cm[row][col] for col in range(num_classes)) for row in range(num_classes)) - (true_positive + false_positive + false_negative)\n"
          ]
        }
      ]
    },
    {
      "cell_type": "markdown",
      "source": [
        "with libraries"
      ],
      "metadata": {
        "id": "ZOAaawI2KikF"
      }
    },
    {
      "cell_type": "code",
      "source": [
        "from sklearn.metrics import accuracy_score,precision_score,f1_score,recall_score,classification_report,confusion_matrix\n",
        "print(confusion_matrix(ya1,yp1))"
      ],
      "metadata": {
        "colab": {
          "base_uri": "https://localhost:8080/"
        },
        "id": "RwBWzcHQKklF",
        "outputId": "472fef45-6531-410e-83e4-4fa3ee09fc72"
      },
      "execution_count": 4,
      "outputs": [
        {
          "output_type": "stream",
          "name": "stdout",
          "text": [
            "[[2 2 1]\n",
            " [1 3 2]\n",
            " [1 2 2]]\n"
          ]
        }
      ]
    },
    {
      "cell_type": "code",
      "source": [
        "print(classification_report(ya1,yp1))"
      ],
      "metadata": {
        "colab": {
          "base_uri": "https://localhost:8080/"
        },
        "id": "uBrncL-TKsJM",
        "outputId": "15412a2e-8c44-43ca-ab39-9240405e756b"
      },
      "execution_count": 5,
      "outputs": [
        {
          "output_type": "stream",
          "name": "stdout",
          "text": [
            "              precision    recall  f1-score   support\n",
            "\n",
            "           0       0.50      0.40      0.44         5\n",
            "           1       0.43      0.50      0.46         6\n",
            "           2       0.40      0.40      0.40         5\n",
            "\n",
            "    accuracy                           0.44        16\n",
            "   macro avg       0.44      0.43      0.44        16\n",
            "weighted avg       0.44      0.44      0.44        16\n",
            "\n"
          ]
        }
      ]
    },
    {
      "cell_type": "code",
      "source": [
        "\n",
        "print(\"\\nMetrics:\")\n",
        "print(f\"Overall Accuracy: {accuracy_score(ya1,yp1):.2f}\")\n",
        "print(f\"Overall Precision: {precision_score(ya1,yp1, average='weighted'):.2f}\")\n",
        "print(f\"Overall Recall: {recall_score(ya1,yp1, average='weighted'):.2f}\")\n",
        "print(f\"Overall F1-Score: {f1_score(ya1,yp1, average='weighted'):.2f}\")"
      ],
      "metadata": {
        "colab": {
          "base_uri": "https://localhost:8080/"
        },
        "id": "rCTkJYDtKvht",
        "outputId": "7c9f685b-943f-44a0-91db-94b1f77652be"
      },
      "execution_count": 6,
      "outputs": [
        {
          "output_type": "stream",
          "name": "stdout",
          "text": [
            "\n",
            "Metrics:\n",
            "Overall Accuracy: 0.44\n",
            "Overall Precision: 0.44\n",
            "Overall Recall: 0.44\n",
            "Overall F1-Score: 0.44\n"
          ]
        }
      ]
    }
  ]
}